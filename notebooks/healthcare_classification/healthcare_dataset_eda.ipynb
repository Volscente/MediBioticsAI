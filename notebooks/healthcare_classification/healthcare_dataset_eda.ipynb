{
 "cells": [
  {
   "cell_type": "markdown",
   "id": "a47a52dc-c158-4809-9d42-a41bbec76eb2",
   "metadata": {},
   "source": [
    "# Introduction\n",
    "\n",
    "Perform an *Exploratory Data Analysis* over the Healthcare Dataset, in order to understand what kind of data are available and discover potential patterns."
   ]
  },
  {
   "cell_type": "code",
   "execution_count": 2,
   "id": "dca9df0b-be05-424a-a8da-8b54609d0be8",
   "metadata": {},
   "outputs": [],
   "source": [
    "# Import Standard Libraries\n",
    "import pandas as pd\n",
    "import os\n",
    "from pathlib import Path\n",
    "\n",
    "# Import Package Modules\n",
    "from general_utils.general_utils import read_configuration"
   ]
  },
  {
   "cell_type": "code",
   "execution_count": 7,
   "id": "b1f0f4c6-44f3-41f3-aa98-9963d09bf3dc",
   "metadata": {},
   "outputs": [],
   "source": [
    "# Retrieve root path\n",
    "root_path = Path(os.getcwd()).parents[1]"
   ]
  },
  {
   "cell_type": "code",
   "execution_count": 17,
   "id": "7098ff5c-49c9-474c-8ab3-625ca824a378",
   "metadata": {},
   "outputs": [
    {
     "name": "stdout",
     "output_type": "stream",
     "text": [
      "[03/09/2024 22:49:27 - general_utils] INFO - read_configuration - Start\n",
      "[03/09/2024 22:49:27 - general_utils] INFO - read_configuration - Reading /Users/s.porreca/Projects/MediBioticsAI/configuration/config.yaml\n",
      "[03/09/2024 22:49:27 - general_utils] INFO - read_configuration - Configuration file /Users/s.porreca/Projects/MediBioticsAI/configuration/config.yaml read successfully\n",
      "[03/09/2024 22:49:27 - general_utils] INFO - read_configuration - End\n"
     ]
    }
   ],
   "source": [
    "# Read configuration variables\n",
    "config = read_configuration(root_path / 'configuration' / 'config.yaml')"
   ]
  },
  {
   "cell_type": "code",
   "execution_count": 21,
   "id": "ab4b5437-99a6-46dd-b52b-517692f7bb6c",
   "metadata": {},
   "outputs": [],
   "source": [
    "# Extract variables\n",
    "healthcare_data_path = config['healthcare_dataset_path']\n",
    "healthcare_data_dates = config['healthcare_dataset_dates']"
   ]
  },
  {
   "cell_type": "markdown",
   "id": "4f625052-53c7-4199-884a-6cb7b8978431",
   "metadata": {},
   "source": [
    "# Read Data"
   ]
  },
  {
   "cell_type": "code",
   "execution_count": 22,
   "id": "a6da9dd9-904e-4249-9efc-a13c5beda0e9",
   "metadata": {},
   "outputs": [],
   "source": [
    "# Define path\n",
    "healthcare_data_path = root_path / healthcare_data_path[0] / healthcare_data_path[1] / healthcare_data_path[2]"
   ]
  },
  {
   "cell_type": "code",
   "execution_count": 23,
   "id": "0d5121a2-bd52-4680-81e1-581904a28951",
   "metadata": {},
   "outputs": [],
   "source": [
    "# Read data\n",
    "healthcare_dataset = pd.read_csv(healthcare_data_path, \n",
    "                                 parse_dates=healthcare_data_dates)"
   ]
  }
 ],
 "metadata": {
  "kernelspec": {
   "display_name": "Python 3 (ipykernel)",
   "language": "python",
   "name": "python3"
  },
  "language_info": {
   "codemirror_mode": {
    "name": "ipython",
    "version": 3
   },
   "file_extension": ".py",
   "mimetype": "text/x-python",
   "name": "python",
   "nbconvert_exporter": "python",
   "pygments_lexer": "ipython3",
   "version": "3.10.5"
  }
 },
 "nbformat": 4,
 "nbformat_minor": 5
}

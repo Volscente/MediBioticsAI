{
 "cells": [
  {
   "cell_type": "markdown",
   "id": "a47a52dc-c158-4809-9d42-a41bbec76eb2",
   "metadata": {},
   "source": [
    "# Introduction\n",
    "\n",
    "Perform an *Exploratory Data Analysis* over the Healthcare Dataset, in order to understand what kind of data are available and discover potential patterns."
   ]
  },
  {
   "cell_type": "code",
   "execution_count": 1,
   "id": "dca9df0b-be05-424a-a8da-8b54609d0be8",
   "metadata": {},
   "outputs": [],
   "source": [
    "# Import Standard Libraries\n",
    "import pandas as pd\n",
    "\n",
    "# Import Package Modules\n",
    "from general_utils.general_utils import read_configuration"
   ]
  },
  {
   "cell_type": "code",
   "execution_count": null,
   "id": "7098ff5c-49c9-474c-8ab3-625ca824a378",
   "metadata": {},
   "outputs": [],
   "source": [
    "# Read configuration variables\n"
   ]
  }
 ],
 "metadata": {
  "kernelspec": {
   "display_name": "Python 3 (ipykernel)",
   "language": "python",
   "name": "python3"
  },
  "language_info": {
   "codemirror_mode": {
    "name": "ipython",
    "version": 3
   },
   "file_extension": ".py",
   "mimetype": "text/x-python",
   "name": "python",
   "nbconvert_exporter": "python",
   "pygments_lexer": "ipython3",
   "version": "3.10.5"
  }
 },
 "nbformat": 4,
 "nbformat_minor": 5
}

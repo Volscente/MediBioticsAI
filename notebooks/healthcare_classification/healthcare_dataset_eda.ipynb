{
 "cells": [
  {
   "cell_type": "markdown",
   "id": "a47a52dc-c158-4809-9d42-a41bbec76eb2",
   "metadata": {},
   "source": [
    "# Introduction\n",
    "\n",
    "Perform an *Exploratory Data Analysis* over the Healthcare Dataset, in order to understand what kind of data are available and discover potential patterns."
   ]
  },
  {
   "cell_type": "code",
   "execution_count": 12,
   "id": "dca9df0b-be05-424a-a8da-8b54609d0be8",
   "metadata": {},
   "outputs": [],
   "source": [
    "# Import Standard Libraries\n",
    "import pandas as pd\n",
    "\n",
    "import os\n",
    "from pathlib import Path\n",
    "\n",
    "import seaborn as sns\n",
    "\n",
    "from colorama import Style, Fore\n",
    "\n",
    "# Import Package Modules\n",
    "from general_utils.general_utils import read_configuration"
   ]
  },
  {
   "cell_type": "markdown",
   "id": "9f141352-dd88-4729-ad80-c9aa015517e3",
   "metadata": {},
   "source": [
    "# Setup Notebook"
   ]
  },
  {
   "cell_type": "markdown",
   "id": "0986ca31-286b-4dda-a1cf-673a30e94613",
   "metadata": {},
   "source": [
    "## Setup Plots Characteristics"
   ]
  },
  {
   "cell_type": "code",
   "execution_count": 9,
   "id": "dcd738df-3df6-4195-a485-22eb173229eb",
   "metadata": {},
   "outputs": [],
   "source": [
    "# Define Seaborn theme parameters\n",
    "theme_parameters =  {\n",
    "    'axes.spines.right': False,\n",
    "    'axes.spines.top': False,\n",
    "    'grid.alpha':0.3,\n",
    "    'figure.figsize': (16, 6),\n",
    "    'font.family': 'Andale Mono',\n",
    "    'axes.titlesize': 24,\n",
    "    'figure.facecolor': '#E5E8E8',\n",
    "    'axes.facecolor': '#E5E8E8'\n",
    "}\n",
    "\n",
    "# Set the theme\n",
    "sns.set_theme(style='whitegrid',\n",
    "              palette=sns.color_palette('deep'), \n",
    "              rc=theme_parameters)"
   ]
  },
  {
   "cell_type": "code",
   "execution_count": 13,
   "id": "ba660125-8d48-4b76-bfb9-7d874b743be6",
   "metadata": {},
   "outputs": [],
   "source": [
    "# Define Colors\n",
    "black = Style.BRIGHT + Fore.BLACK\n",
    "magenta = Style.BRIGHT + Fore.MAGENTA\n",
    "red = Style.BRIGHT + Fore.RED\n",
    "blue = Style.BRIGHT + Fore.BLUE\n",
    "reset_colors = Style.RESET_ALL"
   ]
  },
  {
   "cell_type": "markdown",
   "id": "20d03354-c30b-4d50-84a1-cbab4218f063",
   "metadata": {},
   "source": [
    "## Define Configurations"
   ]
  },
  {
   "cell_type": "code",
   "execution_count": 2,
   "id": "b1f0f4c6-44f3-41f3-aa98-9963d09bf3dc",
   "metadata": {},
   "outputs": [],
   "source": [
    "# Retrieve root path\n",
    "root_path = Path(os.getcwd()).parents[1]"
   ]
  },
  {
   "cell_type": "code",
   "execution_count": 3,
   "id": "7098ff5c-49c9-474c-8ab3-625ca824a378",
   "metadata": {},
   "outputs": [
    {
     "name": "stdout",
     "output_type": "stream",
     "text": [
      "[03/10/2024 12:37:22 - general_utils] INFO - read_configuration - Start\n",
      "[03/10/2024 12:37:22 - general_utils] INFO - read_configuration - Reading /Users/s.porreca/Projects/MediBioticsAI/configuration/config.yaml\n",
      "[03/10/2024 12:37:22 - general_utils] INFO - read_configuration - Configuration file /Users/s.porreca/Projects/MediBioticsAI/configuration/config.yaml read successfully\n",
      "[03/10/2024 12:37:22 - general_utils] INFO - read_configuration - End\n"
     ]
    }
   ],
   "source": [
    "# Read configuration variables\n",
    "config = read_configuration(root_path / 'configuration' / 'config.yaml')"
   ]
  },
  {
   "cell_type": "code",
   "execution_count": 4,
   "id": "ab4b5437-99a6-46dd-b52b-517692f7bb6c",
   "metadata": {},
   "outputs": [],
   "source": [
    "# Extract variables\n",
    "healthcare_data_path = config['healthcare_dataset_path']\n",
    "healthcare_data_dates = config['healthcare_dataset_dates']"
   ]
  },
  {
   "cell_type": "markdown",
   "id": "4f625052-53c7-4199-884a-6cb7b8978431",
   "metadata": {},
   "source": [
    "# Read Data"
   ]
  },
  {
   "cell_type": "code",
   "execution_count": 5,
   "id": "a6da9dd9-904e-4249-9efc-a13c5beda0e9",
   "metadata": {},
   "outputs": [],
   "source": [
    "# Define path\n",
    "healthcare_data_path = root_path / healthcare_data_path[0] / healthcare_data_path[1] / healthcare_data_path[2]"
   ]
  },
  {
   "cell_type": "code",
   "execution_count": 6,
   "id": "0d5121a2-bd52-4680-81e1-581904a28951",
   "metadata": {},
   "outputs": [],
   "source": [
    "# Read data\n",
    "healthcare_dataset = pd.read_csv(healthcare_data_path, \n",
    "                                 parse_dates=healthcare_data_dates)"
   ]
  },
  {
   "cell_type": "markdown",
   "id": "fa350a0d-6841-4fbf-b48d-749a6ef8b756",
   "metadata": {},
   "source": [
    "# Exploratory Data Analysis"
   ]
  },
  {
   "cell_type": "markdown",
   "id": "f013ab48-ab7e-4334-b645-2669c2d22f4d",
   "metadata": {},
   "source": [
    "## General"
   ]
  },
  {
   "cell_type": "markdown",
   "id": "fd537668-d2ea-47ff-832e-d76fae63f1d9",
   "metadata": {},
   "source": [
    "### Data Types"
   ]
  },
  {
   "cell_type": "code",
   "execution_count": 16,
   "id": "fd633aed-874c-4630-99ba-69f082638e7b",
   "metadata": {},
   "outputs": [
    {
     "name": "stdout",
     "output_type": "stream",
     "text": [
      "<class 'pandas.core.frame.DataFrame'>\n",
      "RangeIndex: 10000 entries, 0 to 9999\n",
      "Data columns (total 15 columns):\n",
      " #   Column              Non-Null Count  Dtype         \n",
      "---  ------              --------------  -----         \n",
      " 0   Name                10000 non-null  object        \n",
      " 1   Age                 10000 non-null  int64         \n",
      " 2   Gender              10000 non-null  object        \n",
      " 3   Blood Type          10000 non-null  object        \n",
      " 4   Medical Condition   10000 non-null  object        \n",
      " 5   Date of Admission   10000 non-null  datetime64[ns]\n",
      " 6   Doctor              10000 non-null  object        \n",
      " 7   Hospital            10000 non-null  object        \n",
      " 8   Insurance Provider  10000 non-null  object        \n",
      " 9   Billing Amount      10000 non-null  float64       \n",
      " 10  Room Number         10000 non-null  int64         \n",
      " 11  Admission Type      10000 non-null  object        \n",
      " 12  Discharge Date      10000 non-null  datetime64[ns]\n",
      " 13  Medication          10000 non-null  object        \n",
      " 14  Test Results        10000 non-null  object        \n",
      "dtypes: datetime64[ns](2), float64(1), int64(2), object(10)\n",
      "memory usage: 1.1+ MB\n"
     ]
    }
   ],
   "source": [
    "healthcare_dataset.info()"
   ]
  },
  {
   "cell_type": "markdown",
   "id": "1d49bdae-ef31-4f41-b017-89c60004c790",
   "metadata": {},
   "source": [
    "### Sample Data"
   ]
  },
  {
   "cell_type": "code",
   "execution_count": 7,
   "id": "f72f4c3a-10a1-49a6-81f1-870aaca971a1",
   "metadata": {},
   "outputs": [
    {
     "data": {
      "text/html": [
       "<div>\n",
       "<style scoped>\n",
       "    .dataframe tbody tr th:only-of-type {\n",
       "        vertical-align: middle;\n",
       "    }\n",
       "\n",
       "    .dataframe tbody tr th {\n",
       "        vertical-align: top;\n",
       "    }\n",
       "\n",
       "    .dataframe thead th {\n",
       "        text-align: right;\n",
       "    }\n",
       "</style>\n",
       "<table border=\"1\" class=\"dataframe\">\n",
       "  <thead>\n",
       "    <tr style=\"text-align: right;\">\n",
       "      <th></th>\n",
       "      <th>Name</th>\n",
       "      <th>Age</th>\n",
       "      <th>Gender</th>\n",
       "      <th>Blood Type</th>\n",
       "      <th>Medical Condition</th>\n",
       "      <th>Date of Admission</th>\n",
       "      <th>Doctor</th>\n",
       "      <th>Hospital</th>\n",
       "      <th>Insurance Provider</th>\n",
       "      <th>Billing Amount</th>\n",
       "      <th>Room Number</th>\n",
       "      <th>Admission Type</th>\n",
       "      <th>Discharge Date</th>\n",
       "      <th>Medication</th>\n",
       "      <th>Test Results</th>\n",
       "    </tr>\n",
       "  </thead>\n",
       "  <tbody>\n",
       "    <tr>\n",
       "      <th>0</th>\n",
       "      <td>Tiffany Ramirez</td>\n",
       "      <td>81</td>\n",
       "      <td>Female</td>\n",
       "      <td>O-</td>\n",
       "      <td>Diabetes</td>\n",
       "      <td>2022-11-17</td>\n",
       "      <td>Patrick Parker</td>\n",
       "      <td>Wallace-Hamilton</td>\n",
       "      <td>Medicare</td>\n",
       "      <td>37490.983364</td>\n",
       "      <td>146</td>\n",
       "      <td>Elective</td>\n",
       "      <td>2022-12-01</td>\n",
       "      <td>Aspirin</td>\n",
       "      <td>Inconclusive</td>\n",
       "    </tr>\n",
       "    <tr>\n",
       "      <th>1</th>\n",
       "      <td>Ruben Burns</td>\n",
       "      <td>35</td>\n",
       "      <td>Male</td>\n",
       "      <td>O+</td>\n",
       "      <td>Asthma</td>\n",
       "      <td>2023-06-01</td>\n",
       "      <td>Diane Jackson</td>\n",
       "      <td>Burke, Griffin and Cooper</td>\n",
       "      <td>UnitedHealthcare</td>\n",
       "      <td>47304.064845</td>\n",
       "      <td>404</td>\n",
       "      <td>Emergency</td>\n",
       "      <td>2023-06-15</td>\n",
       "      <td>Lipitor</td>\n",
       "      <td>Normal</td>\n",
       "    </tr>\n",
       "    <tr>\n",
       "      <th>2</th>\n",
       "      <td>Chad Byrd</td>\n",
       "      <td>61</td>\n",
       "      <td>Male</td>\n",
       "      <td>B-</td>\n",
       "      <td>Obesity</td>\n",
       "      <td>2019-01-09</td>\n",
       "      <td>Paul Baker</td>\n",
       "      <td>Walton LLC</td>\n",
       "      <td>Medicare</td>\n",
       "      <td>36874.896997</td>\n",
       "      <td>292</td>\n",
       "      <td>Emergency</td>\n",
       "      <td>2019-02-08</td>\n",
       "      <td>Lipitor</td>\n",
       "      <td>Normal</td>\n",
       "    </tr>\n",
       "    <tr>\n",
       "      <th>3</th>\n",
       "      <td>Antonio Frederick</td>\n",
       "      <td>49</td>\n",
       "      <td>Male</td>\n",
       "      <td>B-</td>\n",
       "      <td>Asthma</td>\n",
       "      <td>2020-05-02</td>\n",
       "      <td>Brian Chandler</td>\n",
       "      <td>Garcia Ltd</td>\n",
       "      <td>Medicare</td>\n",
       "      <td>23303.322092</td>\n",
       "      <td>480</td>\n",
       "      <td>Urgent</td>\n",
       "      <td>2020-05-03</td>\n",
       "      <td>Penicillin</td>\n",
       "      <td>Abnormal</td>\n",
       "    </tr>\n",
       "    <tr>\n",
       "      <th>4</th>\n",
       "      <td>Mrs. Brandy Flowers</td>\n",
       "      <td>51</td>\n",
       "      <td>Male</td>\n",
       "      <td>O-</td>\n",
       "      <td>Arthritis</td>\n",
       "      <td>2021-07-09</td>\n",
       "      <td>Dustin Griffin</td>\n",
       "      <td>Jones, Brown and Murray</td>\n",
       "      <td>UnitedHealthcare</td>\n",
       "      <td>18086.344184</td>\n",
       "      <td>477</td>\n",
       "      <td>Urgent</td>\n",
       "      <td>2021-08-02</td>\n",
       "      <td>Paracetamol</td>\n",
       "      <td>Normal</td>\n",
       "    </tr>\n",
       "    <tr>\n",
       "      <th>5</th>\n",
       "      <td>Patrick Parker</td>\n",
       "      <td>41</td>\n",
       "      <td>Male</td>\n",
       "      <td>AB+</td>\n",
       "      <td>Arthritis</td>\n",
       "      <td>2020-08-20</td>\n",
       "      <td>Robin Green</td>\n",
       "      <td>Boyd PLC</td>\n",
       "      <td>Aetna</td>\n",
       "      <td>22522.363385</td>\n",
       "      <td>180</td>\n",
       "      <td>Urgent</td>\n",
       "      <td>2020-08-23</td>\n",
       "      <td>Aspirin</td>\n",
       "      <td>Abnormal</td>\n",
       "    </tr>\n",
       "    <tr>\n",
       "      <th>6</th>\n",
       "      <td>Charles Horton</td>\n",
       "      <td>82</td>\n",
       "      <td>Male</td>\n",
       "      <td>AB+</td>\n",
       "      <td>Hypertension</td>\n",
       "      <td>2021-03-22</td>\n",
       "      <td>Patricia Bishop</td>\n",
       "      <td>Wheeler, Bryant and Johns</td>\n",
       "      <td>Cigna</td>\n",
       "      <td>39593.435761</td>\n",
       "      <td>161</td>\n",
       "      <td>Urgent</td>\n",
       "      <td>2021-04-15</td>\n",
       "      <td>Lipitor</td>\n",
       "      <td>Abnormal</td>\n",
       "    </tr>\n",
       "    <tr>\n",
       "      <th>7</th>\n",
       "      <td>Patty Norman</td>\n",
       "      <td>55</td>\n",
       "      <td>Female</td>\n",
       "      <td>O-</td>\n",
       "      <td>Arthritis</td>\n",
       "      <td>2019-05-16</td>\n",
       "      <td>Brian Kennedy</td>\n",
       "      <td>Brown Inc</td>\n",
       "      <td>Blue Cross</td>\n",
       "      <td>13546.817249</td>\n",
       "      <td>384</td>\n",
       "      <td>Elective</td>\n",
       "      <td>2019-06-02</td>\n",
       "      <td>Aspirin</td>\n",
       "      <td>Normal</td>\n",
       "    </tr>\n",
       "    <tr>\n",
       "      <th>8</th>\n",
       "      <td>Ryan Hayes</td>\n",
       "      <td>33</td>\n",
       "      <td>Male</td>\n",
       "      <td>A+</td>\n",
       "      <td>Diabetes</td>\n",
       "      <td>2020-12-17</td>\n",
       "      <td>Kristin Dunn</td>\n",
       "      <td>Smith, Edwards and Obrien</td>\n",
       "      <td>Aetna</td>\n",
       "      <td>24903.037270</td>\n",
       "      <td>215</td>\n",
       "      <td>Elective</td>\n",
       "      <td>2020-12-22</td>\n",
       "      <td>Aspirin</td>\n",
       "      <td>Abnormal</td>\n",
       "    </tr>\n",
       "    <tr>\n",
       "      <th>9</th>\n",
       "      <td>Sharon Perez</td>\n",
       "      <td>39</td>\n",
       "      <td>Female</td>\n",
       "      <td>O-</td>\n",
       "      <td>Asthma</td>\n",
       "      <td>2022-12-15</td>\n",
       "      <td>Jessica Bailey</td>\n",
       "      <td>Brown-Golden</td>\n",
       "      <td>Blue Cross</td>\n",
       "      <td>22788.236026</td>\n",
       "      <td>310</td>\n",
       "      <td>Urgent</td>\n",
       "      <td>2022-12-16</td>\n",
       "      <td>Aspirin</td>\n",
       "      <td>Normal</td>\n",
       "    </tr>\n",
       "  </tbody>\n",
       "</table>\n",
       "</div>"
      ],
      "text/plain": [
       "                  Name  Age  Gender Blood Type Medical Condition  \\\n",
       "0      Tiffany Ramirez   81  Female         O-          Diabetes   \n",
       "1          Ruben Burns   35    Male         O+            Asthma   \n",
       "2            Chad Byrd   61    Male         B-           Obesity   \n",
       "3    Antonio Frederick   49    Male         B-            Asthma   \n",
       "4  Mrs. Brandy Flowers   51    Male         O-         Arthritis   \n",
       "5       Patrick Parker   41    Male        AB+         Arthritis   \n",
       "6       Charles Horton   82    Male        AB+      Hypertension   \n",
       "7         Patty Norman   55  Female         O-         Arthritis   \n",
       "8           Ryan Hayes   33    Male         A+          Diabetes   \n",
       "9         Sharon Perez   39  Female         O-            Asthma   \n",
       "\n",
       "  Date of Admission           Doctor                   Hospital  \\\n",
       "0        2022-11-17   Patrick Parker           Wallace-Hamilton   \n",
       "1        2023-06-01    Diane Jackson  Burke, Griffin and Cooper   \n",
       "2        2019-01-09       Paul Baker                 Walton LLC   \n",
       "3        2020-05-02   Brian Chandler                 Garcia Ltd   \n",
       "4        2021-07-09   Dustin Griffin    Jones, Brown and Murray   \n",
       "5        2020-08-20      Robin Green                   Boyd PLC   \n",
       "6        2021-03-22  Patricia Bishop  Wheeler, Bryant and Johns   \n",
       "7        2019-05-16    Brian Kennedy                  Brown Inc   \n",
       "8        2020-12-17     Kristin Dunn  Smith, Edwards and Obrien   \n",
       "9        2022-12-15   Jessica Bailey               Brown-Golden   \n",
       "\n",
       "  Insurance Provider  Billing Amount  Room Number Admission Type  \\\n",
       "0           Medicare    37490.983364          146       Elective   \n",
       "1   UnitedHealthcare    47304.064845          404      Emergency   \n",
       "2           Medicare    36874.896997          292      Emergency   \n",
       "3           Medicare    23303.322092          480         Urgent   \n",
       "4   UnitedHealthcare    18086.344184          477         Urgent   \n",
       "5              Aetna    22522.363385          180         Urgent   \n",
       "6              Cigna    39593.435761          161         Urgent   \n",
       "7         Blue Cross    13546.817249          384       Elective   \n",
       "8              Aetna    24903.037270          215       Elective   \n",
       "9         Blue Cross    22788.236026          310         Urgent   \n",
       "\n",
       "  Discharge Date   Medication  Test Results  \n",
       "0     2022-12-01      Aspirin  Inconclusive  \n",
       "1     2023-06-15      Lipitor        Normal  \n",
       "2     2019-02-08      Lipitor        Normal  \n",
       "3     2020-05-03   Penicillin      Abnormal  \n",
       "4     2021-08-02  Paracetamol        Normal  \n",
       "5     2020-08-23      Aspirin      Abnormal  \n",
       "6     2021-04-15      Lipitor      Abnormal  \n",
       "7     2019-06-02      Aspirin        Normal  \n",
       "8     2020-12-22      Aspirin      Abnormal  \n",
       "9     2022-12-16      Aspirin        Normal  "
      ]
     },
     "execution_count": 7,
     "metadata": {},
     "output_type": "execute_result"
    }
   ],
   "source": [
    "healthcare_dataset.head(10)"
   ]
  },
  {
   "cell_type": "markdown",
   "id": "2f48f30b-e8d3-4f4f-8874-621c136bafba",
   "metadata": {},
   "source": [
    "- There is a mix of numerical and categorical features\n",
    "- The label is categorical"
   ]
  },
  {
   "cell_type": "markdown",
   "id": "b7c58189-7c3c-4326-a886-2c852a2c3f9c",
   "metadata": {},
   "source": [
    "### Shape"
   ]
  },
  {
   "cell_type": "code",
   "execution_count": 15,
   "id": "ad656bce-4132-4c66-a122-490f9ea899dd",
   "metadata": {},
   "outputs": [
    {
     "name": "stdout",
     "output_type": "stream",
     "text": [
      "\u001b[1m\u001b[34mData Shapes:\u001b[1m\u001b[34m\n",
      "- All Data -> \u001b[1m\u001b[31m(10000, 15)\n",
      "\n"
     ]
    }
   ],
   "source": [
    "# Print shapes information\n",
    "print(f'{blue}Data Shapes:'\n",
    "      f'{blue}\\n- All Data -> {red}{healthcare_dataset.shape}\\n')"
   ]
  },
  {
   "cell_type": "markdown",
   "id": "e8917c90-dcd7-4a46-9a50-6e9e6bfc33ab",
   "metadata": {},
   "source": [
    "### Null Values"
   ]
  },
  {
   "cell_type": "code",
   "execution_count": 17,
   "id": "8aeb1c7e-7c15-4676-a759-feac911b8112",
   "metadata": {},
   "outputs": [
    {
     "name": "stdout",
     "output_type": "stream",
     "text": [
      "\u001b[1m\u001b[34mData Columns with Null Values:\u001b[1m\u001b[34m\n",
      "- All Data -> \u001b[1m\u001b[31m0\n",
      "\n"
     ]
    }
   ],
   "source": [
    "# Print null values information\n",
    "print(f'{blue}Data Columns with Null Values:'\n",
    "      f'{blue}\\n- All Data -> {red}{healthcare_dataset.isnull().any().sum()}\\n')"
   ]
  }
 ],
 "metadata": {
  "kernelspec": {
   "display_name": "Python 3 (ipykernel)",
   "language": "python",
   "name": "python3"
  },
  "language_info": {
   "codemirror_mode": {
    "name": "ipython",
    "version": 3
   },
   "file_extension": ".py",
   "mimetype": "text/x-python",
   "name": "python",
   "nbconvert_exporter": "python",
   "pygments_lexer": "ipython3",
   "version": "3.10.5"
  }
 },
 "nbformat": 4,
 "nbformat_minor": 5
}
